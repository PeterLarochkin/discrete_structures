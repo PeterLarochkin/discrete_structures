{
 "cells": [
  {
   "cell_type": "code",
   "execution_count": 1,
   "metadata": {},
   "outputs": [],
   "source": [
    "import pandas as pd \n",
    "import torch \n",
    "import matplotlib.pyplot as plt\n",
    "import numpy as np "
   ]
  },
  {
   "cell_type": "markdown",
   "metadata": {},
   "source": [
    "Посмотрим на данные значений биткоина с 2010 по 2020"
   ]
  },
  {
   "cell_type": "code",
   "execution_count": 2,
   "metadata": {},
   "outputs": [
    {
     "data": {
      "text/html": [
       "<div>\n",
       "<style scoped>\n",
       "    .dataframe tbody tr th:only-of-type {\n",
       "        vertical-align: middle;\n",
       "    }\n",
       "\n",
       "    .dataframe tbody tr th {\n",
       "        vertical-align: top;\n",
       "    }\n",
       "\n",
       "    .dataframe thead th {\n",
       "        text-align: right;\n",
       "    }\n",
       "</style>\n",
       "<table border=\"1\" class=\"dataframe\">\n",
       "  <thead>\n",
       "    <tr style=\"text-align: right;\">\n",
       "      <th></th>\n",
       "      <th>date</th>\n",
       "      <th>time</th>\n",
       "      <th>high</th>\n",
       "      <th>low</th>\n",
       "      <th>open</th>\n",
       "      <th>volumefrom</th>\n",
       "      <th>volumeto</th>\n",
       "      <th>close</th>\n",
       "      <th>conversionType</th>\n",
       "      <th>conversionSymbol</th>\n",
       "      <th>avg</th>\n",
       "    </tr>\n",
       "  </thead>\n",
       "  <tbody>\n",
       "    <tr>\n",
       "      <th>0</th>\n",
       "      <td>2010-09-24 22:00:00</td>\n",
       "      <td>1285365600</td>\n",
       "      <td>0.0622</td>\n",
       "      <td>0.0622</td>\n",
       "      <td>0.0622</td>\n",
       "      <td>0.0</td>\n",
       "      <td>0.0</td>\n",
       "      <td>0.0622</td>\n",
       "      <td>direct</td>\n",
       "      <td>NaN</td>\n",
       "      <td>0.0622</td>\n",
       "    </tr>\n",
       "    <tr>\n",
       "      <th>1</th>\n",
       "      <td>2010-09-24 23:00:00</td>\n",
       "      <td>1285369200</td>\n",
       "      <td>0.0622</td>\n",
       "      <td>0.0622</td>\n",
       "      <td>0.0622</td>\n",
       "      <td>0.0</td>\n",
       "      <td>0.0</td>\n",
       "      <td>0.0622</td>\n",
       "      <td>direct</td>\n",
       "      <td>NaN</td>\n",
       "      <td>0.0622</td>\n",
       "    </tr>\n",
       "    <tr>\n",
       "      <th>2</th>\n",
       "      <td>2010-09-25 00:00:00</td>\n",
       "      <td>1285372800</td>\n",
       "      <td>0.0622</td>\n",
       "      <td>0.0622</td>\n",
       "      <td>0.0622</td>\n",
       "      <td>0.0</td>\n",
       "      <td>0.0</td>\n",
       "      <td>0.0622</td>\n",
       "      <td>direct</td>\n",
       "      <td>NaN</td>\n",
       "      <td>0.0622</td>\n",
       "    </tr>\n",
       "    <tr>\n",
       "      <th>3</th>\n",
       "      <td>2010-09-25 01:00:00</td>\n",
       "      <td>1285376400</td>\n",
       "      <td>0.0622</td>\n",
       "      <td>0.0622</td>\n",
       "      <td>0.0622</td>\n",
       "      <td>0.0</td>\n",
       "      <td>0.0</td>\n",
       "      <td>0.0622</td>\n",
       "      <td>direct</td>\n",
       "      <td>NaN</td>\n",
       "      <td>0.0622</td>\n",
       "    </tr>\n",
       "    <tr>\n",
       "      <th>4</th>\n",
       "      <td>2010-09-25 02:00:00</td>\n",
       "      <td>1285380000</td>\n",
       "      <td>0.0622</td>\n",
       "      <td>0.0622</td>\n",
       "      <td>0.0622</td>\n",
       "      <td>0.0</td>\n",
       "      <td>0.0</td>\n",
       "      <td>0.0622</td>\n",
       "      <td>direct</td>\n",
       "      <td>NaN</td>\n",
       "      <td>0.0622</td>\n",
       "    </tr>\n",
       "  </tbody>\n",
       "</table>\n",
       "</div>"
      ],
      "text/plain": [
       "                  date        time    high     low    open  volumefrom  \\\n",
       "0  2010-09-24 22:00:00  1285365600  0.0622  0.0622  0.0622         0.0   \n",
       "1  2010-09-24 23:00:00  1285369200  0.0622  0.0622  0.0622         0.0   \n",
       "2  2010-09-25 00:00:00  1285372800  0.0622  0.0622  0.0622         0.0   \n",
       "3  2010-09-25 01:00:00  1285376400  0.0622  0.0622  0.0622         0.0   \n",
       "4  2010-09-25 02:00:00  1285380000  0.0622  0.0622  0.0622         0.0   \n",
       "\n",
       "   volumeto   close conversionType conversionSymbol     avg  \n",
       "0       0.0  0.0622         direct              NaN  0.0622  \n",
       "1       0.0  0.0622         direct              NaN  0.0622  \n",
       "2       0.0  0.0622         direct              NaN  0.0622  \n",
       "3       0.0  0.0622         direct              NaN  0.0622  \n",
       "4       0.0  0.0622         direct              NaN  0.0622  "
      ]
     },
     "execution_count": 2,
     "metadata": {},
     "output_type": "execute_result"
    }
   ],
   "source": [
    "usd_to_btc_df = pd.read_csv('btcusd_full_hour_2020_02_01.csv')\n",
    "usd_to_btc_df.head()    "
   ]
  },
  {
   "cell_type": "code",
   "execution_count": 3,
   "metadata": {},
   "outputs": [
    {
     "name": "stdout",
     "output_type": "stream",
     "text": [
      "from  2013-03-01 06:00:00\n",
      "to  2019-12-29 10:00:00\n"
     ]
    },
    {
     "data": {
      "image/png": "[encoded data removed]",
      "text/plain": [
       "<Figure size 432x288 with 1 Axes>"
      ]
     },
     "metadata": {
      "needs_background": "light"
     },
     "output_type": "display_data"
    }
   ],
   "source": [
    "# from 0 to 1\n",
    "start = int(0.26 * len(usd_to_btc_df['avg']))\n",
    "stop = int(0.99 * len(usd_to_btc_df['avg']))\n",
    "plt.plot(usd_to_btc_df['time'][start:stop], usd_to_btc_df['avg'][start:stop])\n",
    "print(\"from \",usd_to_btc_df['date'][start])\n",
    "print(\"to \",usd_to_btc_df['date'][stop])"
   ]
  },
  {
   "cell_type": "markdown",
   "metadata": {},
   "source": [
    "Эмпирически выяснили, что вся движуха началась только после примерно 2013-03-01 06:00:00\n",
    "Остальные данные неинтересны, потому что всем было все равно"
   ]
  },
  {
   "cell_type": "markdown",
   "metadata": {},
   "source": [
    "#Определим сеть"
   ]
  },
  {
   "cell_type": "code",
   "execution_count": 35,
   "metadata": {},
   "outputs": [],
   "source": [
    "from torch import nn\n",
    "class Perceptron1(torch.nn.Module):\n",
    "    def __init__(self):\n",
    "        super(Perceptron1, self).__init__()\n",
    "        self.fc1 = nn.Linear(10, 1000)\n",
    "        self.act1 = nn.Tanh()\n",
    "        self.fc2 = nn.Linear(1000, 500)\n",
    "        self.act2 = nn.Tanh()\n",
    "        self.fc3 = nn.Linear(500, 250)\n",
    "        self.act3 = nn.Tanh()\n",
    "        self.fc4 = nn.Linear(250, 125)\n",
    "        self.act4 = nn.Tanh()\n",
    "        self.fc5 = nn.Linear(125, 1)\n",
    "        self.act5 = nn.Tanh()\n",
    "    def forward(self, x):\n",
    "        x = self.fc1(x)\n",
    "        x = self.act1(x)\n",
    "        x = self.fc2(x)\n",
    "        x = self.act2(x)\n",
    "        x = self.fc3(x)\n",
    "        x = self.act3(x)\n",
    "        x = self.fc4(x)\n",
    "        x = self.act4(x)\n",
    "        x = self.fc5(x)\n",
    "        x = self.act5(x) * 1e5\n",
    "        return x\n",
    "\n",
    "class Perceptron2(torch.nn.Module):\n",
    "    def __init__(self):\n",
    "        super(Perceptron2, self).__init__()\n",
    "        self.fc1 = nn.Linear(10, 500)\n",
    "        self.act1 = nn.Tanh()\n",
    "        self.fc2 = nn.Linear(500, 1000)\n",
    "        self.act2 = nn.Tanh()\n",
    "        self.fc3 = nn.Linear(1000, 2000)\n",
    "        self.act3 = nn.Tanh()\n",
    "        self.fc4 = nn.Linear(2000, 1000)\n",
    "        self.act4 = nn.Tanh()\n",
    "        self.fc5 = nn.Linear(1000, 800)\n",
    "        self.act5 = nn.Tanh()\n",
    "        self.fc6 = nn.Linear(800, 200)\n",
    "        self.act6 = nn.Tanh()\n",
    "        self.fc7 = nn.Linear(200, 1)\n",
    "        self.act7 = nn.Tanh()\n",
    "    def forward(self, x):\n",
    "        x = self.fc1(x)\n",
    "        x = self.act1(x)\n",
    "        x = self.fc2(x)\n",
    "        x = self.act2(x)\n",
    "        x = self.fc3(x)\n",
    "        x = self.act3(x)\n",
    "        x = self.fc4(x)\n",
    "        x = self.act4(x)\n",
    "        x = self.fc5(x)\n",
    "        x = self.act5(x)\n",
    "        x = self.fc6(x)\n",
    "        x = self.act6(x)\n",
    "        x = self.fc7(x)\n",
    "        x = self.act7(x) * 1e5\n",
    "        return x\n",
    "\n",
    "class Model(nn.Module):\n",
    "    def __init__(self, input_size, output_size, hidden_dim, n_layers):\n",
    "        super(Model, self).__init__()\n",
    "\n",
    "        # Defining some parameters\n",
    "        self.hidden_dim = hidden_dim\n",
    "        self.n_layers = n_layers\n",
    "\n",
    "        #Defining the layers\n",
    "        # RNN Layer\n",
    "        self.rnn = nn.RNN(input_size, hidden_dim, n_layers, batch_first=True)   \n",
    "        # Fully connected layer\n",
    "        self.fc1 = nn.Linear(hidden_dim, output_size)\n",
    "        self.act = nn.Tanh()\n",
    "        self.fc2 = nn.Linear(output_size, 100)\n",
    "        self.fc3 = nn.Linear(100, 1250)\n",
    "        self.fc4 = nn.Linear(1250, 750)\n",
    "        self.fc5 = nn.Linear(750, 500)\n",
    "        self.fc6 = nn.Linear(500, 50)\n",
    "        self.fc7 = nn.Linear(50, 1)\n",
    "    def forward(self, x):\n",
    "        \n",
    "        batch_size = x.size(0)\n",
    "        x = torch.reshape(x, (x.size(0), 1, x.size(1)))\n",
    "        # Initializing hidden state for first input using method defined below\n",
    "        hidden = self.init_hidden(batch_size)\n",
    "\n",
    "        # Passing in the input and hidden state into the model and obtaining outputs\n",
    "        out, hidden = self.rnn(x, hidden)\n",
    "        \n",
    "        # Reshaping the outputs such that it can be fit into the fully connected layer\n",
    "        out = out.contiguous().view(-1, self.hidden_dim)\n",
    "        out = self.fc1(out)\n",
    "        out = self.act(out)\n",
    "        out = self.fc2(out)\n",
    "        out = self.act(out)\n",
    "        out = self.fc3(out)\n",
    "        out = self.act(out)\n",
    "        out = self.fc4(out)\n",
    "        out = self.act(out)\n",
    "        out = self.fc5(out)\n",
    "        out = self.act(out)\n",
    "        out = self.fc6(out)\n",
    "        out = self.act(out)\n",
    "        out = self.fc7(out)\n",
    "        out = self.act(out) * 1e5\n",
    "        return out\n",
    "    \n",
    "    def init_hidden(self, batch_size):\n",
    "        # This method generates the first hidden state of zeros which we'll use in the forward pass\n",
    "        # We'll send the tensor holding the hidden state to the device we specified earlier as well\n",
    "        hidden = torch.zeros(self.n_layers, batch_size, self.hidden_dim)\n",
    "        return hidden"
   ]
  },
  {
   "cell_type": "markdown",
   "metadata": {},
   "source": [
    "Обучение"
   ]
  },
  {
   "cell_type": "code",
   "execution_count": 36,
   "metadata": {},
   "outputs": [],
   "source": [
    "import time\n",
    "def generate_batch_data(device, x, y, batch_size):\n",
    "    dataset = torch.utils.data.TensorDataset(x.to(device), y.to(device))\n",
    "    loader = torch.utils.data.DataLoader(dataset=dataset, batch_size=batch_size, shuffle=False)\n",
    "\n",
    "    for batch, [x_batch, y_batch] in enumerate(loader, 1):\n",
    "        yield x_batch, y_batch, batch"
   ]
  },
  {
   "cell_type": "markdown",
   "metadata": {},
   "source": [
    "Сделаем предобработку"
   ]
  },
  {
   "cell_type": "code",
   "execution_count": 37,
   "metadata": {},
   "outputs": [
    {
     "name": "stdout",
     "output_type": "stream",
     "text": [
      "x_train  torch.Size([56597, 10])\n",
      "x_validatation  torch.Size([4092, 10])\n",
      "y_train  torch.Size([56597])\n",
      "y_validatation  torch.Size([4092])\n"
     ]
    },
    {
     "data": {
      "image/png": "[encoded data removed]",
      "text/plain": [
       "<Figure size 432x288 with 1 Axes>"
      ]
     },
     "metadata": {
      "needs_background": "light"
     },
     "output_type": "display_data"
    },
    {
     "data": {
      "image/png": "[encoded data removed]",
      "text/plain": [
       "<Figure size 432x288 with 1 Axes>"
      ]
     },
     "metadata": {
      "needs_background": "light"
     },
     "output_type": "display_data"
    }
   ],
   "source": [
    "\n",
    "train = usd_to_btc_df['avg'][int(0.26 * len(usd_to_btc_df['avg'])):int(0.95 * len(usd_to_btc_df['avg']))].to_list()\n",
    "validation = usd_to_btc_df['avg'][int(0.95 * len(usd_to_btc_df['avg'])):].to_list()\n",
    "\n",
    "def difference(dataset, interval=1):\n",
    "    diff = list()\n",
    "    for i in range(interval, len(dataset)):\n",
    "        value = dataset[i] - dataset[i - interval]\n",
    "        diff.append(value)\n",
    "    return diff\n",
    "\n",
    "\n",
    "def inverse_difference(inverted, first_value):\n",
    "    original = [first_value]\n",
    "    for i, item in enumerate(inverted):\n",
    "        original.append(original[i] + item)\n",
    "    return original\n",
    "\n",
    "inverted_train = difference(train)\n",
    "inverted_validation = difference(validation)\n",
    "\n",
    "x_train = [inverted_train[i:i+10] for i in range(len(inverted_train) - 10)]\n",
    "x_validatation = [inverted_validation[i:i+10] for i in range(len(inverted_validation) - 10)]\n",
    "\n",
    "y_train = inverted_train[10:]\n",
    "y_validatation = inverted_validation[10:]\n",
    "\n",
    "x_train = np.array(x_train)\n",
    "x_train = torch.from_numpy(x_train).float()\n",
    "print(\"x_train \", x_train.size())\n",
    "x_validatation = np.array(x_validatation)\n",
    "x_validatation = torch.from_numpy(x_validatation).float()\n",
    "print(\"x_validatation \", x_validatation.size())\n",
    "y_train = np.array(y_train)\n",
    "y_train = torch.from_numpy(y_train).float()\n",
    "print(\"y_train \", y_train.size())\n",
    "y_validatation = np.array(y_validatation)\n",
    "y_validatation = torch.from_numpy(y_validatation).float()\n",
    "print(\"y_validatation \", y_validatation.size())\n",
    "plt.plot(range(len(inverted_train)),inverted_train)\n",
    "plt.show()\n",
    "\n",
    "plt.plot(range(len(inverted_validation)),inverted_validation)\n",
    "plt.show()\n",
    "\n",
    "\n"
   ]
  },
  {
   "cell_type": "code",
   "execution_count": 38,
   "metadata": {},
   "outputs": [],
   "source": [
    "def train(model, n_epochs, device, x_train, y_train, x_validatation, y_validatation, batch_size, loss_function, optimizer):\n",
    "    train_losses = []\n",
    "    validation_losses = []\n",
    "    model.train()\n",
    "    for epoch in range(n_epochs):\n",
    "        start_time = time.time()\n",
    "\n",
    "        train_loss = 0\n",
    "        val_loss = 0\n",
    "        batch = 0\n",
    "        for x_batch, y_batch, batch in generate_batch_data(device, x_train, y_train, batch_size):\n",
    "            y_pred = model(x_batch)\n",
    "\n",
    "            optimizer.zero_grad()\n",
    "            loss = loss_function(y_pred, y_batch)\n",
    "            \n",
    "            loss.backward()\n",
    "            optimizer.step()\n",
    "            train_loss += loss.item()\n",
    "        \n",
    "        train_loss /= batch\n",
    "        train_losses.append(train_loss)\n",
    "\n",
    "        with torch.no_grad():\n",
    "            for x_val_batch, y_val_batch, n in generate_batch_data(device, x_validatation, y_validatation, batch_size):\n",
    "                val_loss += loss_function(model(x_val_batch), y_val_batch).item()\n",
    "            val_loss /= n\n",
    "            validation_losses.append(val_loss)\n",
    "        elapsed = time.time() - start_time\n",
    "        if True:\n",
    "            print(f\"Epoch {str(epoch + 1):>02}\"\n",
    "                    f\" Train loss: {train_loss:.4f}.\"\n",
    "                    f\" Validation loss: {val_loss:.4f}.\"\n",
    "                    f\" Elapsed time: {elapsed:.2f}s.\")\n",
    "    return model, train_losses, validation_losses\n",
    "    \n"
   ]
  },
  {
   "cell_type": "code",
   "execution_count": 39,
   "metadata": {},
   "outputs": [
    {
     "name": "stdout",
     "output_type": "stream",
     "text": [
      "Epoch 01 Train loss: 794.5710. Validation loss: 198.8046. Elapsed time: 8.11s.\n",
      "Epoch 02 Train loss: 372.6898. Validation loss: 49.3220. Elapsed time: 9.11s.\n",
      "Epoch 03 Train loss: 113.9804. Validation loss: 61.6448. Elapsed time: 8.33s.\n",
      "Epoch 04 Train loss: 98.3532. Validation loss: 43.0211. Elapsed time: 8.18s.\n",
      "Epoch 05 Train loss: 110.6900. Validation loss: 145.7397. Elapsed time: 7.98s.\n",
      "Epoch 06 Train loss: 172.2144. Validation loss: 59.3853. Elapsed time: 8.07s.\n",
      "Epoch 07 Train loss: 82.9736. Validation loss: 32.9620. Elapsed time: 7.85s.\n",
      "Epoch 08 Train loss: 110.3810. Validation loss: 75.2793. Elapsed time: 7.96s.\n",
      "Epoch 09 Train loss: 56.0534. Validation loss: 85.7886. Elapsed time: 7.94s.\n",
      "Epoch 10 Train loss: 103.3542. Validation loss: 28.8281. Elapsed time: 7.93s.\n",
      "Epoch 11 Train loss: 69.4467. Validation loss: 44.2456. Elapsed time: 7.83s.\n",
      "Epoch 12 Train loss: 83.2278. Validation loss: 39.1523. Elapsed time: 8.04s.\n",
      "Epoch 13 Train loss: 76.3583. Validation loss: 71.1624. Elapsed time: 8.76s.\n",
      "Epoch 14 Train loss: 28.7304. Validation loss: 26.0253. Elapsed time: 8.45s.\n",
      "Epoch 15 Train loss: 29.6581. Validation loss: 26.6941. Elapsed time: 9.12s.\n",
      "Epoch 16 Train loss: 41.1666. Validation loss: 26.2412. Elapsed time: 7.98s.\n",
      "Epoch 17 Train loss: 65.7163. Validation loss: 40.1361. Elapsed time: 8.34s.\n",
      "Epoch 18 Train loss: 94.2541. Validation loss: 145.0740. Elapsed time: 8.27s.\n",
      "Epoch 19 Train loss: 66.0087. Validation loss: 26.4965. Elapsed time: 8.21s.\n",
      "Epoch 20 Train loss: 63.1540. Validation loss: 26.2163. Elapsed time: 8.94s.\n"
     ]
    }
   ],
   "source": [
    "model1 = Model(10, 50, 10, 30)\n",
    "device = torch.device('cpu')\n",
    "batch_size= 800\n",
    "n_epochs= 20\n",
    "optimizer = torch.optim.Adam(model1.parameters(), lr=0.0001)\n",
    "loss_function = torch.nn.L1Loss()\n",
    "done_model1, train_loss1, val_loss1 = train(model1, n_epochs, device, x_train, y_train, x_validatation, y_validatation, batch_size, loss_function, optimizer)\n",
    "plt.plot(range(len(train_loss1)),train_loss1)\n",
    "plt.legend(\"train_loss\")\n",
    "plt.show()\n",
    "plt.plot(range(len(val_loss1)),val_loss1)\n",
    "plt.legend(\"val_loss\")\n",
    "plt.show()"
   ]
  },
  {
   "cell_type": "code",
   "execution_count": 40,
   "metadata": {},
   "outputs": [
    {
     "data": {
      "image/png": "[encoded data removed]",
      "text/plain": [
       "<Figure size 432x288 with 1 Axes>"
      ]
     },
     "metadata": {
      "needs_background": "light"
     },
     "output_type": "display_data"
    },
    {
     "data": {
      "image/png": "[encoded data removed]",
      "text/plain": [
       "<Figure size 432x288 with 1 Axes>"
      ]
     },
     "metadata": {
      "needs_background": "light"
     },
     "output_type": "display_data"
    }
   ],
   "source": [
    "model2 = Perceptron2()\n",
    "device = torch.device('cpu')\n",
    "batch_size= 800\n",
    "n_epochs= 20\n",
    "optimizer = torch.optim.Adam(model2.parameters(), lr=0.0001)\n",
    "loss_function = torch.nn.L1Loss()\n",
    "done_model2, train_loss2, val_loss2 = train(model2, n_epochs, device, x_train, y_train, x_validatation, y_validatation, batch_size, loss_function, optimizer)\n",
    "plt.plot(range(len(train_loss2)),train_loss2)\n",
    "plt.legend(\"train_loss\")\n",
    "plt.show()\n",
    "plt.plot(range(len(val_loss2)),val_loss2)\n",
    "plt.legend(\"val_loss\")\n",
    "plt.show()\n"
   ]
  },
  {
   "cell_type": "code",
   "execution_count": null,
   "metadata": {},
   "outputs": [],
   "source": [
    "model3 = Perceptron1()\n",
    "device = torch.device('cpu')\n",
    "batch_size= 800\n",
    "n_epochs= 20\n",
    "optimizer = torch.optim.Adam(model3.parameters(), lr=0.0001)\n",
    "loss_function = torch.nn.L1Loss()\n",
    "done_model3, train_loss3, val_loss3 = train(model3, n_epochs, device, x_train, y_train, x_validatation, y_validatation, batch_size, loss_function, optimizer)\n",
    "plt.plot(range(len(train_loss3)),train_loss3)\n",
    "plt.legend(\"train_loss\")\n",
    "plt.show()\n",
    "plt.plot(range(len(val_loss3)),val_loss3)\n",
    "plt.legend(\"val_loss\")\n",
    "plt.show()"
   ]
  },
  {
   "cell_type": "markdown",
   "metadata": {},
   "source": [
    "Давайте посмотрим как можно использовать эту модель"
   ]
  },
  {
   "cell_type": "code",
   "execution_count": 41,
   "metadata": {},
   "outputs": [
    {
     "data": {
      "text/html": [
       "<div>\n",
       "<style scoped>\n",
       "    .dataframe tbody tr th:only-of-type {\n",
       "        vertical-align: middle;\n",
       "    }\n",
       "\n",
       "    .dataframe tbody tr th {\n",
       "        vertical-align: top;\n",
       "    }\n",
       "\n",
       "    .dataframe thead th {\n",
       "        text-align: right;\n",
       "    }\n",
       "</style>\n",
       "<table border=\"1\" class=\"dataframe\">\n",
       "  <thead>\n",
       "    <tr style=\"text-align: right;\">\n",
       "      <th></th>\n",
       "      <th>unix</th>\n",
       "      <th>date</th>\n",
       "      <th>symbol</th>\n",
       "      <th>open</th>\n",
       "      <th>high</th>\n",
       "      <th>low</th>\n",
       "      <th>close</th>\n",
       "      <th>Volume BTC</th>\n",
       "      <th>Volume USDT</th>\n",
       "      <th>tradecount</th>\n",
       "    </tr>\n",
       "  </thead>\n",
       "  <tbody>\n",
       "    <tr>\n",
       "      <th>42391</th>\n",
       "      <td>1.502942e+09</td>\n",
       "      <td>2017-08-17 04-AM</td>\n",
       "      <td>BTC/USDT</td>\n",
       "      <td>16199.91</td>\n",
       "      <td>16199.91</td>\n",
       "      <td>4261.32</td>\n",
       "      <td>4308.83</td>\n",
       "      <td>44.5100</td>\n",
       "      <td>190952.85</td>\n",
       "      <td>NaN</td>\n",
       "    </tr>\n",
       "    <tr>\n",
       "      <th>42390</th>\n",
       "      <td>1.502946e+09</td>\n",
       "      <td>2017-08-17 05-AM</td>\n",
       "      <td>BTC/USDT</td>\n",
       "      <td>4308.83</td>\n",
       "      <td>4328.69</td>\n",
       "      <td>4291.37</td>\n",
       "      <td>4315.32</td>\n",
       "      <td>23.2300</td>\n",
       "      <td>100304.82</td>\n",
       "      <td>NaN</td>\n",
       "    </tr>\n",
       "    <tr>\n",
       "      <th>42389</th>\n",
       "      <td>1.502950e+09</td>\n",
       "      <td>2017-08-17 06-AM</td>\n",
       "      <td>BTC/USDT</td>\n",
       "      <td>4315.32</td>\n",
       "      <td>4345.45</td>\n",
       "      <td>4309.37</td>\n",
       "      <td>4324.35</td>\n",
       "      <td>7.2300</td>\n",
       "      <td>31282.31</td>\n",
       "      <td>NaN</td>\n",
       "    </tr>\n",
       "    <tr>\n",
       "      <th>42388</th>\n",
       "      <td>1.502953e+09</td>\n",
       "      <td>2017-08-17 07-AM</td>\n",
       "      <td>BTC/USDT</td>\n",
       "      <td>4324.35</td>\n",
       "      <td>4349.99</td>\n",
       "      <td>4287.41</td>\n",
       "      <td>4349.99</td>\n",
       "      <td>4.4400</td>\n",
       "      <td>19241.06</td>\n",
       "      <td>NaN</td>\n",
       "    </tr>\n",
       "    <tr>\n",
       "      <th>42387</th>\n",
       "      <td>1.502957e+09</td>\n",
       "      <td>2017-08-17 08-AM</td>\n",
       "      <td>BTC/USDT</td>\n",
       "      <td>4349.99</td>\n",
       "      <td>4377.85</td>\n",
       "      <td>4333.32</td>\n",
       "      <td>4360.69</td>\n",
       "      <td>0.9499</td>\n",
       "      <td>4139.70</td>\n",
       "      <td>NaN</td>\n",
       "    </tr>\n",
       "  </tbody>\n",
       "</table>\n",
       "</div>"
      ],
      "text/plain": [
       "               unix              date    symbol      open      high      low  \\\n",
       "42391  1.502942e+09  2017-08-17 04-AM  BTC/USDT  16199.91  16199.91  4261.32   \n",
       "42390  1.502946e+09  2017-08-17 05-AM  BTC/USDT   4308.83   4328.69  4291.37   \n",
       "42389  1.502950e+09  2017-08-17 06-AM  BTC/USDT   4315.32   4345.45  4309.37   \n",
       "42388  1.502953e+09  2017-08-17 07-AM  BTC/USDT   4324.35   4349.99  4287.41   \n",
       "42387  1.502957e+09  2017-08-17 08-AM  BTC/USDT   4349.99   4377.85  4333.32   \n",
       "\n",
       "         close  Volume BTC  Volume USDT  tradecount  \n",
       "42391  4308.83     44.5100    190952.85         NaN  \n",
       "42390  4315.32     23.2300    100304.82         NaN  \n",
       "42389  4324.35      7.2300     31282.31         NaN  \n",
       "42388  4349.99      4.4400     19241.06         NaN  \n",
       "42387  4360.69      0.9499      4139.70         NaN  "
      ]
     },
     "execution_count": 41,
     "metadata": {},
     "output_type": "execute_result"
    }
   ],
   "source": [
    "usd_to_btc_Binance = pd.read_csv('Binance_BTCUSDT_1h.csv')\n",
    "usd_to_btc_Binance = usd_to_btc_Binance.iloc[::-1] \n",
    "usd_to_btc_Binance.head()\n"
   ]
  },
  {
   "cell_type": "markdown",
   "metadata": {},
   "source": [
    "Разница в модуле между реальными и предсказанными данными"
   ]
  },
  {
   "cell_type": "code",
   "execution_count": 42,
   "metadata": {},
   "outputs": [
    {
     "data": {
      "image/png": "[encoded data removed]",
      "text/plain": [
       "<Figure size 432x288 with 1 Axes>"
      ]
     },
     "metadata": {
      "needs_background": "light"
     },
     "output_type": "display_data"
    },
    {
     "data": {
      "image/png": "[encoded data removed]",
      "text/plain": [
       "<Figure size 432x288 with 1 Axes>"
      ]
     },
     "metadata": {
      "needs_background": "light"
     },
     "output_type": "display_data"
    },
    {
     "name": "stdout",
     "output_type": "stream",
     "text": [
      "##########################\n"
     ]
    }
   ],
   "source": [
    "def check(new_model):\n",
    "    future_len = 500\n",
    "    data = usd_to_btc_Binance['open'].to_list()[2:]\n",
    "    difference_data = difference(data)\n",
    "    x_test = difference_data[:10]\n",
    "\n",
    "    for i in range(future_len):\n",
    "        new_diff = new_model(torch.tensor([x_test[i:i+10]])).item()\n",
    "        x_test.append(new_diff)\n",
    "        \n",
    "    result = inverse_difference(x_test, data[0])\n",
    "\n",
    "    plt.plot(range(len(result)),data[:len(result)])\n",
    "    plt.show()\n",
    "    plt.plot(range(len(result)), result)\n",
    "    plt.show()\n",
    "    print(\"##########################\")\n",
    "\n",
    "check(done_model1)"
   ]
  },
  {
   "cell_type": "code",
   "execution_count": null,
   "metadata": {},
   "outputs": [],
   "source": [
    "def check(new_model):\n",
    "    future_len = 500\n",
    "    data = usd_to_btc_Binance['open'].to_list()[2:]\n",
    "    difference_data = difference(data)\n",
    "    x_test = difference_data[:10]\n",
    "\n",
    "    for i in range(future_len):\n",
    "        new_diff = new_model(torch.tensor(x_test[i:i+10])).item()\n",
    "        x_test.append(new_diff)\n",
    "        \n",
    "    result = inverse_difference(x_test, data[0])\n",
    "\n",
    "    plt.plot(range(len(result)),data[:len(result)])\n",
    "    plt.show()\n",
    "    plt.plot(range(len(result)), result)\n",
    "    plt.show()\n",
    "    print(\"##########################\")\n",
    "\n",
    "check(done_model2)\n",
    "check(done_model3)"
   ]
  },
  {
   "cell_type": "markdown",
   "metadata": {},
   "source": [
    "Система принятия решения"
   ]
  },
  {
   "cell_type": "code",
   "execution_count": null,
   "metadata": {},
   "outputs": [],
   "source": [
    "from torch import nn\n",
    "class Classifier(torch.nn.Module):\n",
    "    def __init__(self):\n",
    "        super(Perceptron1, self).__init__()\n",
    "        self.fc1 = nn.Linear(10, 500)\n",
    "        self.act1 = nn.Sigmoid()\n",
    "        self.fc2 = nn.Linear(500, 1000)\n",
    "        self.act2 = nn.Sigmoid()\n",
    "        self.fc3 = nn.Linear(1000, 500)\n",
    "        self.act3 = nn.Sigmoid()\n",
    "        self.fc4 = nn.Linear(500, 250)\n",
    "        self.act4 = nn.Sigmoid()\n",
    "        self.fc5 = nn.Linear(250, 1)\n",
    "        self.act5 = nn.Sigmoid()\n",
    "    def forward(self, x):\n",
    "        x = self.fc1(x)\n",
    "        x = self.act1(x)\n",
    "        x = self.fc2(x)\n",
    "        x = self.act2(x)\n",
    "        x = self.fc3(x)\n",
    "        x = self.act3(x)\n",
    "        x = self.fc4(x)\n",
    "        x = self.act4(x)\n",
    "        x = self.fc5(x)\n",
    "        x = self.act5(x)\n",
    "        return x\n",
    "classifier = Classifier()\n",
    "device = torch.device('cpu')\n",
    "batch_size= 800\n",
    "n_epochs= 20\n",
    "train_losses = []\n",
    "validation_losses = []\n",
    "optimizer = torch.optim.Adam(classifier.parameters(), lr=0.0001)\n",
    "loss_function = torch.nn.L1Loss()\n",
    "\n",
    "y_train[y_train > 0] = 1\n",
    "y_train[y_train <= 0] = 0\n",
    "\n",
    "y_validatation[y_validatation > 0] = 1\n",
    "y_validatation[y_validatation <= 0] = 0\n",
    "y_validatation\n",
    "classificator, _, _ = train(classifier, n_epochs, device, x_train, y_train, x_validatation, y_validatation, batch_size, loss_function, optimizer)"
   ]
  },
  {
   "cell_type": "code",
   "execution_count": null,
   "metadata": {},
   "outputs": [],
   "source": [
    "def get_recomendation(classificator, first_ten, thresh):\n",
    "    first_ten = torch.tensor(first_ten)\n",
    "    ans = classificator(first_ten)\n",
    "    return ans >= thresh"
   ]
  },
  {
   "cell_type": "markdown",
   "metadata": {},
   "source": [
    "ARIMA PART"
   ]
  }
 ],
 "metadata": {
  "interpreter": {
   "hash": "31f2aee4e71d21fbe5cf8b01ff0e069b9275f58929596ceb00d14d90e3e16cd6"
  },
  "kernelspec": {
   "display_name": "Python 3.8.9 64-bit",
   "language": "python",
   "name": "python3"
  },
  "language_info": {
   "codemirror_mode": {
    "name": "ipython",
    "version": 3
   },
   "file_extension": ".py",
   "mimetype": "text/x-python",
   "name": "python",
   "nbconvert_exporter": "python",
   "pygments_lexer": "ipython3",
   "version": "3.8.9"
  },
  "orig_nbformat": 4
 },
 "nbformat": 4,
 "nbformat_minor": 2
}
