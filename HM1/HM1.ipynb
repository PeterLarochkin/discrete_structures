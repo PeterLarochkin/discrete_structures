{
 "cells": [
  {
   "cell_type": "code",
   "execution_count": 174,
   "metadata": {},
   "outputs": [],
   "source": [
    "import pandas as pd \n",
    "import torch \n",
    "import matplotlib.pyplot as plt\n",
    "import numpy as np "
   ]
  },
  {
   "cell_type": "markdown",
   "metadata": {},
   "source": [
    "Посмотрим на данные значений биткоина с 2010 по 2020"
   ]
  },
  {
   "cell_type": "code",
   "execution_count": 175,
   "metadata": {},
   "outputs": [
    {
     "data": {
      "text/html": [
       "<div>\n",
       "<style scoped>\n",
       "    .dataframe tbody tr th:only-of-type {\n",
       "        vertical-align: middle;\n",
       "    }\n",
       "\n",
       "    .dataframe tbody tr th {\n",
       "        vertical-align: top;\n",
       "    }\n",
       "\n",
       "    .dataframe thead th {\n",
       "        text-align: right;\n",
       "    }\n",
       "</style>\n",
       "<table border=\"1\" class=\"dataframe\">\n",
       "  <thead>\n",
       "    <tr style=\"text-align: right;\">\n",
       "      <th></th>\n",
       "      <th>date</th>\n",
       "      <th>time</th>\n",
       "      <th>high</th>\n",
       "      <th>low</th>\n",
       "      <th>open</th>\n",
       "      <th>volumefrom</th>\n",
       "      <th>volumeto</th>\n",
       "      <th>close</th>\n",
       "      <th>conversionType</th>\n",
       "      <th>conversionSymbol</th>\n",
       "      <th>avg</th>\n",
       "    </tr>\n",
       "  </thead>\n",
       "  <tbody>\n",
       "    <tr>\n",
       "      <th>82038</th>\n",
       "      <td>2020-02-01 12:00:00</td>\n",
       "      <td>1580558400</td>\n",
       "      <td>9357.83</td>\n",
       "      <td>9296.57</td>\n",
       "      <td>9345.54</td>\n",
       "      <td>921.06</td>\n",
       "      <td>8589207.24</td>\n",
       "      <td>9304.36</td>\n",
       "      <td>direct</td>\n",
       "      <td>NaN</td>\n",
       "      <td>9327.200</td>\n",
       "    </tr>\n",
       "    <tr>\n",
       "      <th>82039</th>\n",
       "      <td>2020-02-01 13:00:00</td>\n",
       "      <td>1580562000</td>\n",
       "      <td>9362.24</td>\n",
       "      <td>9299.17</td>\n",
       "      <td>9304.36</td>\n",
       "      <td>621.57</td>\n",
       "      <td>5807615.68</td>\n",
       "      <td>9344.54</td>\n",
       "      <td>direct</td>\n",
       "      <td>NaN</td>\n",
       "      <td>9330.705</td>\n",
       "    </tr>\n",
       "    <tr>\n",
       "      <th>82040</th>\n",
       "      <td>2020-02-01 14:00:00</td>\n",
       "      <td>1580565600</td>\n",
       "      <td>9345.18</td>\n",
       "      <td>9301.96</td>\n",
       "      <td>9344.54</td>\n",
       "      <td>448.02</td>\n",
       "      <td>4172322.40</td>\n",
       "      <td>9309.57</td>\n",
       "      <td>direct</td>\n",
       "      <td>NaN</td>\n",
       "      <td>9323.570</td>\n",
       "    </tr>\n",
       "  </tbody>\n",
       "</table>\n",
       "</div>"
      ],
      "text/plain": [
       "                      date        time     high      low     open  volumefrom  \\\n",
       "82038  2020-02-01 12:00:00  1580558400  9357.83  9296.57  9345.54      921.06   \n",
       "82039  2020-02-01 13:00:00  1580562000  9362.24  9299.17  9304.36      621.57   \n",
       "82040  2020-02-01 14:00:00  1580565600  9345.18  9301.96  9344.54      448.02   \n",
       "\n",
       "         volumeto    close conversionType conversionSymbol       avg  \n",
       "82038  8589207.24  9304.36         direct              NaN  9327.200  \n",
       "82039  5807615.68  9344.54         direct              NaN  9330.705  \n",
       "82040  4172322.40  9309.57         direct              NaN  9323.570  "
      ]
     },
     "execution_count": 175,
     "metadata": {},
     "output_type": "execute_result"
    }
   ],
   "source": [
    "usd_to_btc_df = pd.read_csv('btcusd_full_hour_2020_02_01.csv')\n",
    "usd_to_btc_df.tail(3)"
   ]
  },
  {
   "cell_type": "code",
   "execution_count": 176,
   "metadata": {},
   "outputs": [
    {
     "name": "stdout",
     "output_type": "stream",
     "text": [
      "from  2013-03-01 06:00:00\n",
      "to  2014-06-22 14:00:00\n"
     ]
    },
    {
     "data": {
      "image/png": "[encoded data removed]",
      "text/plain": [
       "<Figure size 432x288 with 1 Axes>"
      ]
     },
     "metadata": {
      "needs_background": "light"
     },
     "output_type": "display_data"
    }
   ],
   "source": [
    "# from 0 to 1\n",
    "start = int(0.26 * len(usd_to_btc_df['avg']))\n",
    "stop = int(0.4 * len(usd_to_btc_df['avg']))\n",
    "plt.plot(usd_to_btc_df['time'][start:stop], usd_to_btc_df['avg'][start:stop])\n",
    "print(\"from \",usd_to_btc_df['date'][start])\n",
    "print(\"to \",usd_to_btc_df['date'][stop])"
   ]
  },
  {
   "cell_type": "markdown",
   "metadata": {},
   "source": [
    "Эмпирически выяснили, что вся движуха началась только после примерно 2013-03-01 06:00:00\n",
    "Остальные данные неинтересны, потому что всем было все равно"
   ]
  },
  {
   "cell_type": "markdown",
   "metadata": {},
   "source": [
    "#Определим сеть"
   ]
  },
  {
   "cell_type": "code",
   "execution_count": 187,
   "metadata": {},
   "outputs": [],
   "source": [
    "from torch import nn\n",
    "class Perceptron(torch.nn.Module):\n",
    "    def __init__(self):\n",
    "        super(Perceptron, self).__init__()\n",
    "        self.fc1 = nn.Linear(10,5)\n",
    "        self.act1 = nn.Tanh()\n",
    "        self.fc2 = nn.Linear(5,5)\n",
    "        self.act2 = nn.Sigmoid()\n",
    "        self.fc3 = nn.Linear(5,2)\n",
    "        self.act3 = nn.Sigmoid()\n",
    "        self.fc4 = nn.Linear(2,1)\n",
    "        self.act4 = nn.Sigmoid()\n",
    "    def forward(self, x):\n",
    "        x = self.fc1(x)\n",
    "        x = self.act1(x)\n",
    "        x = self.fc2(x)\n",
    "        x = self.act2(x)\n",
    "        x = self.fc3(x)\n",
    "        x = self.act3(x)\n",
    "        x = self.fc4(x)\n",
    "        x = self.act4(x) * 1e6\n",
    "        return x"
   ]
  },
  {
   "cell_type": "markdown",
   "metadata": {},
   "source": [
    "Обучение"
   ]
  },
  {
   "cell_type": "code",
   "execution_count": 193,
   "metadata": {},
   "outputs": [
    {
     "name": "stdout",
     "output_type": "stream",
     "text": [
      "torch.Size([82021, 10]) torch.Size([82021])\n"
     ]
    }
   ],
   "source": [
    "import time\n",
    "def generate_batch_data(device, x, y, batch_size):\n",
    "    dataset = torch.utils.data.TensorDataset(x.to(device), y.to(device))\n",
    "    loader = torch.utils.data.DataLoader(dataset=dataset, batch_size=batch_size, shuffle=False)\n",
    "\n",
    "    for batch, [x_batch, y_batch] in enumerate(loader, 1):\n",
    "        yield x_batch, y_batch, batch\n",
    "        \n",
    "model = Perceptron()\n",
    "device = torch.device('cpu')\n",
    "batch_size = 25\n",
    "n_epochs= 50\n",
    "verbose=True\n",
    "train_losses = []\n",
    "\n",
    "optimizer = torch.optim.Adam(model.parameters(), lr=0.0001)\n",
    "loss_function = torch.nn.L1Loss()\n",
    "\n",
    "\n",
    "x_train = [ usd_to_btc_df['avg'][i + 10:i + 20].to_list() for i, item in enumerate(usd_to_btc_df['avg'][10:-10])]\n",
    "x_train = np.array(x_train, dtype=np.float32)\n",
    "x_train = torch.from_numpy(x_train)\n",
    "\n",
    "y_train = usd_to_btc_df['avg'][10:-10].to_list()\n",
    "y_train = np.array(y_train, dtype=np.float32)\n",
    "y_train = torch.from_numpy(y_train)\n",
    "print(x_train.size(), y_train.size())"
   ]
  },
  {
   "cell_type": "code",
   "execution_count": 194,
   "metadata": {},
   "outputs": [
    {
     "name": "stderr",
     "output_type": "stream",
     "text": [
      "/Users/petrlarockin/Library/Python/3.8/lib/python/site-packages/torch/nn/modules/loss.py:96: UserWarning: Using a target size (torch.Size([25])) that is different to the input size (torch.Size([25, 1])). This will likely lead to incorrect results due to broadcasting. Please ensure they have the same size.\n",
      "  return F.l1_loss(input, target, reduction=self.reduction)\n",
      "/Users/petrlarockin/Library/Python/3.8/lib/python/site-packages/torch/nn/modules/loss.py:96: UserWarning: Using a target size (torch.Size([21])) that is different to the input size (torch.Size([21, 1])). This will likely lead to incorrect results due to broadcasting. Please ensure they have the same size.\n",
      "  return F.l1_loss(input, target, reduction=self.reduction)\n"
     ]
    },
    {
     "name": "stdout",
     "output_type": "stream",
     "text": [
      "Epoch 01 Train loss: 314419.8901. Elapsed time: 2.85s.\n",
      "Epoch 02 Train loss: 163597.7445. Elapsed time: 2.82s.\n",
      "Epoch 03 Train loss: 76505.7298. Elapsed time: 2.80s.\n",
      "Epoch 04 Train loss: 33231.5222. Elapsed time: 2.79s.\n",
      "Epoch 05 Train loss: 14491.1641. Elapsed time: 2.78s.\n",
      "Epoch 06 Train loss: 6768.0226. Elapsed time: 2.76s.\n",
      "Epoch 07 Train loss: 4409.9092. Elapsed time: 2.78s.\n",
      "Epoch 08 Train loss: 3400.5917. Elapsed time: 2.78s.\n",
      "Epoch 09 Train loss: 2927.2490. Elapsed time: 2.76s.\n",
      "Epoch 10 Train loss: 2611.3470. Elapsed time: 2.78s.\n",
      "Epoch 11 Train loss: 2396.4376. Elapsed time: 2.78s.\n",
      "Epoch 12 Train loss: 2275.9312. Elapsed time: 2.76s.\n",
      "Epoch 13 Train loss: 2203.8029. Elapsed time: 2.76s.\n",
      "Epoch 14 Train loss: 2173.5887. Elapsed time: 2.75s.\n",
      "Epoch 15 Train loss: 2160.8454. Elapsed time: 2.78s.\n",
      "Epoch 16 Train loss: 2155.6360. Elapsed time: 2.76s.\n",
      "Epoch 17 Train loss: 2148.2789. Elapsed time: 2.77s.\n",
      "Epoch 18 Train loss: 2144.2838. Elapsed time: 2.77s.\n",
      "Epoch 19 Train loss: 2142.9664. Elapsed time: 2.75s.\n",
      "Epoch 20 Train loss: 2142.0741. Elapsed time: 2.79s.\n",
      "Epoch 21 Train loss: 2141.5467. Elapsed time: 2.77s.\n",
      "Epoch 22 Train loss: 2141.2948. Elapsed time: 2.76s.\n",
      "Epoch 23 Train loss: 2141.2555. Elapsed time: 2.77s.\n",
      "Epoch 24 Train loss: 2141.2502. Elapsed time: 2.76s.\n",
      "Epoch 25 Train loss: 2141.2480. Elapsed time: 2.77s.\n",
      "Epoch 26 Train loss: 2141.2531. Elapsed time: 2.78s.\n",
      "Epoch 27 Train loss: 2141.2605. Elapsed time: 2.78s.\n",
      "Epoch 28 Train loss: 2141.2604. Elapsed time: 2.80s.\n",
      "Epoch 29 Train loss: 2141.2752. Elapsed time: 2.77s.\n",
      "Epoch 30 Train loss: 2141.2643. Elapsed time: 2.79s.\n",
      "Epoch 31 Train loss: 2141.2790. Elapsed time: 2.77s.\n",
      "Epoch 32 Train loss: 2141.2933. Elapsed time: 2.74s.\n",
      "Epoch 33 Train loss: 2141.2577. Elapsed time: 2.77s.\n",
      "Epoch 34 Train loss: 2141.1294. Elapsed time: 2.76s.\n",
      "Epoch 35 Train loss: 2140.9458. Elapsed time: 2.75s.\n",
      "Epoch 36 Train loss: 2140.7022. Elapsed time: 2.76s.\n",
      "Epoch 37 Train loss: 2140.6352. Elapsed time: 2.74s.\n",
      "Epoch 38 Train loss: 2141.2398. Elapsed time: 2.76s.\n",
      "Epoch 39 Train loss: 2144.0154. Elapsed time: 2.77s.\n",
      "Epoch 40 Train loss: 2147.8201. Elapsed time: 2.74s.\n",
      "Epoch 41 Train loss: 2153.1480. Elapsed time: 2.79s.\n",
      "Epoch 42 Train loss: 2156.5889. Elapsed time: 2.88s.\n",
      "Epoch 43 Train loss: 2159.3307. Elapsed time: 2.78s.\n",
      "Epoch 44 Train loss: 2162.6732. Elapsed time: 2.76s.\n",
      "Epoch 45 Train loss: 2166.0040. Elapsed time: 2.84s.\n",
      "Epoch 46 Train loss: 2165.9840. Elapsed time: 2.77s.\n",
      "Epoch 47 Train loss: 2166.6925. Elapsed time: 2.77s.\n",
      "Epoch 48 Train loss: 2168.4252. Elapsed time: 2.75s.\n",
      "Epoch 49 Train loss: 2169.1888. Elapsed time: 2.78s.\n",
      "Epoch 50 Train loss: 2170.0291. Elapsed time: 2.75s.\n"
     ]
    }
   ],
   "source": [
    "model.train()\n",
    "for epoch in range(n_epochs):\n",
    "    start_time = time.time()\n",
    "\n",
    "    train_loss = 0\n",
    "    batch = 0\n",
    "    for x_batch, y_batch, batch in generate_batch_data(device, x_train, y_train, batch_size):\n",
    "        # y_pred = self.model(x_batch)\n",
    "        \n",
    "        y_pred = model(x_batch)\n",
    "\n",
    "        optimizer.zero_grad()\n",
    "        loss = loss_function(y_pred, y_batch)\n",
    "        \n",
    "        loss.backward()\n",
    "        optimizer.step()\n",
    "        train_loss += loss.item()\n",
    "    \n",
    "    train_loss /= batch\n",
    "    train_losses.append(train_loss)\n",
    "\n",
    "    elapsed = time.time() - start_time\n",
    "    if True:\n",
    "        print(f\"Epoch {str(epoch + 1):>02}\"\n",
    "                f\" Train loss: {train_loss:.4f}.\"\n",
    "                # f\" Validation loss: {self.val_losses[-1]:.4f}.\"\n",
    "                f\" Elapsed time: {elapsed:.2f}s.\")"
   ]
  },
  {
   "cell_type": "markdown",
   "metadata": {},
   "source": [
    "Давайте посмотрим как можно использовать эту модель"
   ]
  },
  {
   "cell_type": "code",
   "execution_count": 182,
   "metadata": {},
   "outputs": [
    {
     "data": {
      "text/html": [
       "<div>\n",
       "<style scoped>\n",
       "    .dataframe tbody tr th:only-of-type {\n",
       "        vertical-align: middle;\n",
       "    }\n",
       "\n",
       "    .dataframe tbody tr th {\n",
       "        vertical-align: top;\n",
       "    }\n",
       "\n",
       "    .dataframe thead th {\n",
       "        text-align: right;\n",
       "    }\n",
       "</style>\n",
       "<table border=\"1\" class=\"dataframe\">\n",
       "  <thead>\n",
       "    <tr style=\"text-align: right;\">\n",
       "      <th></th>\n",
       "      <th>unix</th>\n",
       "      <th>date</th>\n",
       "      <th>symbol</th>\n",
       "      <th>open</th>\n",
       "      <th>high</th>\n",
       "      <th>low</th>\n",
       "      <th>close</th>\n",
       "      <th>Volume BTC</th>\n",
       "      <th>Volume USDT</th>\n",
       "      <th>tradecount</th>\n",
       "    </tr>\n",
       "  </thead>\n",
       "  <tbody>\n",
       "    <tr>\n",
       "      <th>4</th>\n",
       "      <td>1.646078e+12</td>\n",
       "      <td>2022-02-28 20:00:00</td>\n",
       "      <td>BTC/USDT</td>\n",
       "      <td>41329.44</td>\n",
       "      <td>41950.00</td>\n",
       "      <td>41248.41</td>\n",
       "      <td>41908.07</td>\n",
       "      <td>3794.77339</td>\n",
       "      <td>1.579844e+08</td>\n",
       "      <td>100504.0</td>\n",
       "    </tr>\n",
       "    <tr>\n",
       "      <th>3</th>\n",
       "      <td>1.646082e+12</td>\n",
       "      <td>2022-02-28 21:00:00</td>\n",
       "      <td>BTC/USDT</td>\n",
       "      <td>41908.08</td>\n",
       "      <td>41918.02</td>\n",
       "      <td>41500.56</td>\n",
       "      <td>41644.99</td>\n",
       "      <td>1373.72185</td>\n",
       "      <td>5.721327e+07</td>\n",
       "      <td>47247.0</td>\n",
       "    </tr>\n",
       "    <tr>\n",
       "      <th>2</th>\n",
       "      <td>1.646086e+12</td>\n",
       "      <td>2022-02-28 22:00:00</td>\n",
       "      <td>BTC/USDT</td>\n",
       "      <td>41645.00</td>\n",
       "      <td>44225.84</td>\n",
       "      <td>41628.99</td>\n",
       "      <td>43026.44</td>\n",
       "      <td>8825.95745</td>\n",
       "      <td>3.815874e+08</td>\n",
       "      <td>309998.0</td>\n",
       "    </tr>\n",
       "    <tr>\n",
       "      <th>1</th>\n",
       "      <td>1.646089e+12</td>\n",
       "      <td>2022-02-28 23:00:00</td>\n",
       "      <td>BTC/USDT</td>\n",
       "      <td>43026.45</td>\n",
       "      <td>43346.92</td>\n",
       "      <td>42847.00</td>\n",
       "      <td>43160.00</td>\n",
       "      <td>4081.96888</td>\n",
       "      <td>1.760338e+08</td>\n",
       "      <td>110413.0</td>\n",
       "    </tr>\n",
       "    <tr>\n",
       "      <th>0</th>\n",
       "      <td>1.646093e+12</td>\n",
       "      <td>2022-03-01 00:00:00</td>\n",
       "      <td>BTC/USDT</td>\n",
       "      <td>43160.00</td>\n",
       "      <td>43608.00</td>\n",
       "      <td>43155.68</td>\n",
       "      <td>43305.94</td>\n",
       "      <td>1307.55917</td>\n",
       "      <td>5.674319e+07</td>\n",
       "      <td>35501.0</td>\n",
       "    </tr>\n",
       "  </tbody>\n",
       "</table>\n",
       "</div>"
      ],
      "text/plain": [
       "           unix                 date    symbol      open      high       low  \\\n",
       "4  1.646078e+12  2022-02-28 20:00:00  BTC/USDT  41329.44  41950.00  41248.41   \n",
       "3  1.646082e+12  2022-02-28 21:00:00  BTC/USDT  41908.08  41918.02  41500.56   \n",
       "2  1.646086e+12  2022-02-28 22:00:00  BTC/USDT  41645.00  44225.84  41628.99   \n",
       "1  1.646089e+12  2022-02-28 23:00:00  BTC/USDT  43026.45  43346.92  42847.00   \n",
       "0  1.646093e+12  2022-03-01 00:00:00  BTC/USDT  43160.00  43608.00  43155.68   \n",
       "\n",
       "      close  Volume BTC   Volume USDT  tradecount  \n",
       "4  41908.07  3794.77339  1.579844e+08    100504.0  \n",
       "3  41644.99  1373.72185  5.721327e+07     47247.0  \n",
       "2  43026.44  8825.95745  3.815874e+08    309998.0  \n",
       "1  43160.00  4081.96888  1.760338e+08    110413.0  \n",
       "0  43305.94  1307.55917  5.674319e+07     35501.0  "
      ]
     },
     "execution_count": 182,
     "metadata": {},
     "output_type": "execute_result"
    }
   ],
   "source": [
    "usd_to_btc_Binance = pd.read_csv('Binance_BTCUSDT_1h.csv')\n",
    "usd_to_btc_Binance = usd_to_btc_Binance.iloc[::-1] \n",
    "usd_to_btc_Binance.tail()\n"
   ]
  },
  {
   "cell_type": "markdown",
   "metadata": {},
   "source": [
    "Разница в модуле между реальными и предсказанными данными"
   ]
  },
  {
   "cell_type": "code",
   "execution_count": 183,
   "metadata": {},
   "outputs": [
    {
     "data": {
      "text/plain": [
       "[<matplotlib.lines.Line2D at 0x16ac848b0>]"
      ]
     },
     "execution_count": 183,
     "metadata": {},
     "output_type": "execute_result"
    },
    {
     "data": {
      "image/png": "[encoded data removed]",
      "text/plain": [
       "<Figure size 432x288 with 1 Axes>"
      ]
     },
     "metadata": {
      "needs_background": "light"
     },
     "output_type": "display_data"
    }
   ],
   "source": [
    "x_test = [ usd_to_btc_Binance['open'][i + 10:i + 20].to_list() for i, item in enumerate(usd_to_btc_Binance['open'][10:-10])]\n",
    "x_test = np.array(x_test, dtype=np.float32)\n",
    "x_test = torch.from_numpy(x_test)\n",
    "\n",
    "y_test = usd_to_btc_Binance['open'][10:-10].to_list()\n",
    "y_test = np.array(y_test, dtype=np.float32)\n",
    "y_test = torch.from_numpy(y_test)\n",
    "\n",
    "model.eval()\n",
    "difference = torch.abs(model(x_test) - y_test).detach().numpy()\n",
    "plt.plot(range(len(difference)), difference)"
   ]
  },
  {
   "cell_type": "markdown",
   "metadata": {},
   "source": [
    "Система принятия решения"
   ]
  },
  {
   "cell_type": "code",
   "execution_count": 210,
   "metadata": {},
   "outputs": [],
   "source": [
    "# state=False SELL\n",
    "# state=True BUY\n",
    "def decision_making_system(model, data):\n",
    "    if len(data) != 10:\n",
    "        raise Exception(\"Only 10 numbers\")\n",
    "    output = model(data)[0]\n",
    "    new_state = output > data[-1]\n",
    "    decision = new_state\n",
    "    return decision"
   ]
  },
  {
   "cell_type": "markdown",
   "metadata": {},
   "source": [
    "Попробуем поторговать"
   ]
  },
  {
   "cell_type": "code",
   "execution_count": 216,
   "metadata": {},
   "outputs": [],
   "source": [
    "trade_period = x_test[:50]\n",
    "decisions = [bool(decision_making_system(model, data).item()) for data in trade_period]\n"
   ]
  },
  {
   "cell_type": "code",
   "execution_count": 226,
   "metadata": {},
   "outputs": [
    {
     "name": "stdout",
     "output_type": "stream",
     "text": [
      "[-122.2001953125]\n",
      "total profit is $ -122.2001953125\n"
     ]
    }
   ],
   "source": [
    "last_price = x_test[0][0]\n",
    "profit = []\n",
    "state = True\n",
    "# print(last_price)\n",
    "for i, new_state in enumerate(decisions):\n",
    "    new_price = trade_period[i][-1].item()\n",
    "    if new_state == False and state == True:\n",
    "        profit.append(new_price - last_price)\n",
    "    state = new_state\n",
    "profit = list(map(lambda prof: float(prof),profit))\n",
    "print(profit)\n",
    "import functools\n",
    "print(\"total profit is $\", functools.reduce((lambda a, b: a + b),profit))"
   ]
  }
 ],
 "metadata": {
  "interpreter": {
   "hash": "31f2aee4e71d21fbe5cf8b01ff0e069b9275f58929596ceb00d14d90e3e16cd6"
  },
  "kernelspec": {
   "display_name": "Python 3.8.9 64-bit",
   "language": "python",
   "name": "python3"
  },
  "language_info": {
   "codemirror_mode": {
    "name": "ipython",
    "version": 3
   },
   "file_extension": ".py",
   "mimetype": "text/x-python",
   "name": "python",
   "nbconvert_exporter": "python",
   "pygments_lexer": "ipython3",
   "version": "3.8.9"
  },
  "orig_nbformat": 4
 },
 "nbformat": 4,
 "nbformat_minor": 2
}
